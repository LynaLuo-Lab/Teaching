{
  "nbformat": 4,
  "nbformat_minor": 0,
  "metadata": {
    "colab": {
      "provenance": []
    },
    "kernelspec": {
      "name": "python3",
      "display_name": "Python 3"
    },
    "language_info": {
      "name": "python"
    }
  },
  "cells": [
    {
      "cell_type": "code",
      "execution_count": 1,
      "metadata": {
        "id": "lemn7GvAxJc7"
      },
      "outputs": [],
      "source": [
        "import numpy as np\n",
        "import scipy as sp\n",
        "from scipy import sparse\n",
        "from scipy.sparse import linalg\n",
        "from scipy import linalg\n",
        "import copy"
      ]
    },
    {
      "cell_type": "code",
      "source": [
        "# This is a test case for computing current flow betweeness of a protein residue network containing 10 amino acid (resid 0-9)\n",
        "# Step1: allow user to upload a 3-cloumn csv file [residA  residB   weight]\n",
        "# convert automatically to a np.array and adjacency matrix (see Figure 2 in DOI: 10.1021/acs.jctc.8b01197)\n",
        "# weight is usualy a pair-wise correlation coefficient or normalized interaction energy between {0, 1} from molecular dynamics simulation\n",
        "\n",
        "\n",
        "tempAdj=sp.sparse.coo_matrix(\n",
        "    (\n",
        "        np.array(\n",
        "            [.25,.33,.5,1,.25,.25,.33,.33,.5,.5,1,\n",
        "             1,.25,.25,.33,.33,.5,.5,1,1,.25,.33,.5,1]),\n",
        "        ([0,0,0,0,1,1,2,2,3,3,4,4,5,5,6,6,7,7,8,8,9,9,9,9],\n",
        "         [1,2,3,4,0,5,0,6,0,7,0,8,1,9,2,9,3,9,4,9,5,6,7,8])\n",
        "    )\n",
        ")\n",
        "tempAdjDense=tempAdj.todense()\n",
        "print(tempAdj)\n",
        "print(tempAdjDense)"
      ],
      "metadata": {
        "colab": {
          "base_uri": "https://localhost:8080/"
        },
        "id": "A0XUorTGxvQ-",
        "outputId": "52d15410-158e-4565-aad6-90c008092576"
      },
      "execution_count": 9,
      "outputs": [
        {
          "output_type": "stream",
          "name": "stdout",
          "text": [
            "  (0, 1)\t0.25\n",
            "  (0, 2)\t0.33\n",
            "  (0, 3)\t0.5\n",
            "  (0, 4)\t1.0\n",
            "  (1, 0)\t0.25\n",
            "  (1, 5)\t0.25\n",
            "  (2, 0)\t0.33\n",
            "  (2, 6)\t0.33\n",
            "  (3, 0)\t0.5\n",
            "  (3, 7)\t0.5\n",
            "  (4, 0)\t1.0\n",
            "  (4, 8)\t1.0\n",
            "  (5, 1)\t0.25\n",
            "  (5, 9)\t0.25\n",
            "  (6, 2)\t0.33\n",
            "  (6, 9)\t0.33\n",
            "  (7, 3)\t0.5\n",
            "  (7, 9)\t0.5\n",
            "  (8, 4)\t1.0\n",
            "  (8, 9)\t1.0\n",
            "  (9, 5)\t0.25\n",
            "  (9, 6)\t0.33\n",
            "  (9, 7)\t0.5\n",
            "  (9, 8)\t1.0\n",
            "[[0.   0.25 0.33 0.5  1.   0.   0.   0.   0.   0.  ]\n",
            " [0.25 0.   0.   0.   0.   0.25 0.   0.   0.   0.  ]\n",
            " [0.33 0.   0.   0.   0.   0.   0.33 0.   0.   0.  ]\n",
            " [0.5  0.   0.   0.   0.   0.   0.   0.5  0.   0.  ]\n",
            " [1.   0.   0.   0.   0.   0.   0.   0.   1.   0.  ]\n",
            " [0.   0.25 0.   0.   0.   0.   0.   0.   0.   0.25]\n",
            " [0.   0.   0.33 0.   0.   0.   0.   0.   0.   0.33]\n",
            " [0.   0.   0.   0.5  0.   0.   0.   0.   0.   0.5 ]\n",
            " [0.   0.   0.   0.   1.   0.   0.   0.   0.   1.  ]\n",
            " [0.   0.   0.   0.   0.   0.25 0.33 0.5  1.   0.  ]]\n"
          ]
        }
      ]
    },
    {
      "cell_type": "code",
      "source": [
        "# Step2: convert adjacency matrix to Laplacian matrix using sum of diagonal terms\n",
        "tempLapDense=-copy.deepcopy(tempAdjDense)\n",
        "for ii,irow in enumerate(tempLapDense):\n",
        "  tempLapDense[ii,ii]=-np.sum(irow)\n",
        "\n",
        "print(tempLapDense)"
      ],
      "metadata": {
        "colab": {
          "base_uri": "https://localhost:8080/"
        },
        "id": "KDgSb63SyHsc",
        "outputId": "bc622a65-57f3-4f4f-e9a4-ed407c8713a0"
      },
      "execution_count": 10,
      "outputs": [
        {
          "output_type": "stream",
          "name": "stdout",
          "text": [
            "[[ 2.08 -0.25 -0.33 -0.5  -1.   -0.   -0.   -0.   -0.   -0.  ]\n",
            " [-0.25  0.5  -0.   -0.   -0.   -0.25 -0.   -0.   -0.   -0.  ]\n",
            " [-0.33 -0.    0.66 -0.   -0.   -0.   -0.33 -0.   -0.   -0.  ]\n",
            " [-0.5  -0.   -0.    1.   -0.   -0.   -0.   -0.5  -0.   -0.  ]\n",
            " [-1.   -0.   -0.   -0.    2.   -0.   -0.   -0.   -1.   -0.  ]\n",
            " [-0.   -0.25 -0.   -0.   -0.    0.5  -0.   -0.   -0.   -0.25]\n",
            " [-0.   -0.   -0.33 -0.   -0.   -0.    0.66 -0.   -0.   -0.33]\n",
            " [-0.   -0.   -0.   -0.5  -0.   -0.   -0.    1.   -0.   -0.5 ]\n",
            " [-0.   -0.   -0.   -0.   -1.   -0.   -0.   -0.    2.   -1.  ]\n",
            " [-0.   -0.   -0.   -0.   -0.   -0.25 -0.33 -0.5  -1.    2.08]]\n"
          ]
        }
      ]
    },
    {
      "cell_type": "code",
      "source": [
        "#Step3: compute pseudoinverse of Laplacian matrix using np.linalg.pinv()\n",
        "tempLinv=np.linalg.pinv(tempLapDense)\n",
        "tempLinv"
      ],
      "metadata": {
        "id": "sOOvbcvH96rE",
        "colab": {
          "base_uri": "https://localhost:8080/"
        },
        "outputId": "1ae13999-8fac-4475-93af-5b427aa8354c"
      },
      "execution_count": 11,
      "outputs": [
        {
          "output_type": "execute_result",
          "data": {
            "text/plain": [
              "matrix([[ 0.56118298, -0.07920163,  0.01776807,  0.12079837,  0.22079837,\n",
              "         -0.31958625, -0.22261655, -0.11958625, -0.01958625, -0.15997086],\n",
              "        [-0.07920163,  2.10733683, -0.46236014, -0.35932984, -0.25932984,\n",
              "          0.69387529, -0.54248834, -0.43945804, -0.33945804, -0.31958625],\n",
              "        [ 0.01776807, -0.46236014,  1.65481158, -0.26236014, -0.16236014,\n",
              "         -0.54248834,  0.56458236, -0.34248834, -0.24248834, -0.22261655],\n",
              "        [ 0.12079837, -0.35932984, -0.26236014,  1.1740035 , -0.05932984,\n",
              "         -0.43945804, -0.34248834,  0.42720862, -0.13945804, -0.11958625],\n",
              "        [ 0.22079837, -0.25932984, -0.16236014, -0.05932984,  0.70733683,\n",
              "         -0.33945804, -0.24248834, -0.13945804,  0.29387529, -0.01958625],\n",
              "        [-0.31958625,  0.69387529, -0.54248834, -0.43945804, -0.33945804,\n",
              "          2.10733683, -0.46236014, -0.35932984, -0.25932984, -0.07920163],\n",
              "        [-0.22261655, -0.54248834,  0.56458236, -0.34248834, -0.24248834,\n",
              "         -0.46236014,  1.65481158, -0.26236014, -0.16236014,  0.01776807],\n",
              "        [-0.11958625, -0.43945804, -0.34248834,  0.42720862, -0.13945804,\n",
              "         -0.35932984, -0.26236014,  1.1740035 , -0.05932984,  0.12079837],\n",
              "        [-0.01958625, -0.33945804, -0.24248834, -0.13945804,  0.29387529,\n",
              "         -0.25932984, -0.16236014, -0.05932984,  0.70733683,  0.22079837],\n",
              "        [-0.15997086, -0.31958625, -0.22261655, -0.11958625, -0.01958625,\n",
              "         -0.07920163,  0.01776807,  0.12079837,  0.22079837,  0.56118298]])"
            ]
          },
          "metadata": {},
          "execution_count": 11
        }
      ]
    },
    {
      "cell_type": "code",
      "source": [
        "# Step4: compute flow betweeness for edge 4-8\n",
        "v_1_10_4=tempLinv[3,0]-tempLinv[3,9]\n",
        "v_1_10_8=tempLinv[7,0]-tempLinv[7,9]\n",
        "b_4_8=tempAdjDense[3,7]*(v_1_10_4-v_1_10_8)\n",
        "\n",
        "print('v_1_10_4',v_1_10_4)\n",
        "print('v_1_10_8',v_1_10_8)\n",
        "print('b_4_8',b_4_8)"
      ],
      "metadata": {
        "colab": {
          "base_uri": "https://localhost:8080/"
        },
        "id": "jpuIp5kXAZR3",
        "outputId": "ec552922-dea8-45e3-fb97-e8988e8ce6e4"
      },
      "execution_count": 12,
      "outputs": [
        {
          "output_type": "stream",
          "name": "stdout",
          "text": [
            "v_1_10_4 0.24038461538461647\n",
            "v_1_10_8 -0.2403846153846146\n",
            "b_4_8 0.24038461538461553\n"
          ]
        }
      ]
    },
    {
      "cell_type": "code",
      "source": [
        "# or a concise way of computing\n",
        "tempAdjDense[3,7]*np.matrix(np.atleast_2d(np.array([0,0,0,1,0,0,0,-1,0,0])))*tempLinv*np.matrix(np.atleast_2d(np.array([1,0,0,0,0,0,0,0,0,-1])).T)"
      ],
      "metadata": {
        "colab": {
          "base_uri": "https://localhost:8080/"
        },
        "id": "2zUxdOEZEftK",
        "outputId": "edb5612e-40b3-4d18-e029-8a2912475f32"
      },
      "execution_count": 13,
      "outputs": [
        {
          "output_type": "execute_result",
          "data": {
            "text/plain": [
              "matrix([[0.24038462]])"
            ]
          },
          "metadata": {},
          "execution_count": 13
        }
      ]
    },
    {
      "cell_type": "code",
      "source": [
        "# Now, can you build a web interface that allow user to import a csv file (number of residues < 100 for testing) and resid of source and sink, obtain the betweenness score for each edge?"
      ],
      "metadata": {
        "id": "jT9OA6IZMiq-"
      },
      "execution_count": null,
      "outputs": []
    },
    {
      "cell_type": "code",
      "source": [
        "# Alternatively, if user only needs to compute flow betweenness for one pair of source and sink, conjugate gradient is faster\n",
        "\n",
        "#sources=[0,1,2]\n",
        "#sinks=[5,8,9]\n",
        "sources=[0]\n",
        "sinks=[9]\n",
        "loadMat=np.zeros((len(tempLinv),len(sources)*len(sinks)))\n",
        "ii=0\n",
        "for isource,source in enumerate(sources):\n",
        "  for isink,sink in enumerate(sinks):\n",
        "    loadMat[source,ii]=1\n",
        "    loadMat[sink,ii]=-1\n",
        "    ii+=1\n",
        "print('Load mat',loadMat)\n",
        "\n",
        "# this can be done using conjugate gradient! #\n",
        "potMat=tempLinv*loadMat\n",
        "print('pot mat',potMat)\n",
        "potVec=np.sum(potMat,axis=1)\n",
        "print('pot vec',potVec)\n",
        "# #\n",
        "#assuming you have a cg_solver method that takes in\n",
        "#a sparse matrix and a vector as input\n",
        "#you would use something like:\n",
        "\n",
        "#potVec=np.zeros(tempAdj.shape[0])\n",
        "#for loadVec in loadMat.T:\n",
        "#  potVec=potVec+sp.sparse.linalg.cg(tempLapSp,loadVec)[0]\n",
        "#potVec=potVec/len(loadMat.T)\n",
        "\n",
        "\n",
        "btw_4_8=np.abs(tempAdj.tocsr()[3,7]*(potVec[7]-potVec[3]))\n",
        "print('btw_4_8',btw_4_8)"
      ],
      "metadata": {
        "colab": {
          "base_uri": "https://localhost:8080/"
        },
        "id": "6anhhOJsIulS",
        "outputId": "a42cb1ee-afb8-4fd9-ec3f-891067ad8e15"
      },
      "execution_count": 15,
      "outputs": [
        {
          "output_type": "stream",
          "name": "stdout",
          "text": [
            "Load mat [[ 1.]\n",
            " [ 0.]\n",
            " [ 0.]\n",
            " [ 0.]\n",
            " [ 0.]\n",
            " [ 0.]\n",
            " [ 0.]\n",
            " [ 0.]\n",
            " [ 0.]\n",
            " [-1.]]\n",
            "pot mat [[ 0.72115385]\n",
            " [ 0.24038462]\n",
            " [ 0.24038462]\n",
            " [ 0.24038462]\n",
            " [ 0.24038462]\n",
            " [-0.24038462]\n",
            " [-0.24038462]\n",
            " [-0.24038462]\n",
            " [-0.24038462]\n",
            " [-0.72115385]]\n",
            "pot vec [[ 0.72115385]\n",
            " [ 0.24038462]\n",
            " [ 0.24038462]\n",
            " [ 0.24038462]\n",
            " [ 0.24038462]\n",
            " [-0.24038462]\n",
            " [-0.24038462]\n",
            " [-0.24038462]\n",
            " [-0.24038462]\n",
            " [-0.72115385]]\n",
            "btw_4_8 [[0.24038462]]\n"
          ]
        }
      ]
    },
    {
      "cell_type": "code",
      "source": [],
      "metadata": {
        "id": "GH5hYUw4bc2h"
      },
      "execution_count": null,
      "outputs": []
    }
  ]
}